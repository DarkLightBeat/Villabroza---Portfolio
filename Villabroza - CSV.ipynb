{
 "cells": [
  {
   "cell_type": "code",
   "execution_count": 1,
   "id": "349d1069",
   "metadata": {},
   "outputs": [
    {
     "name": "stdout",
     "output_type": "stream",
     "text": [
      "Results saved to US2010Census.csv\n"
     ]
    }
   ],
   "source": [
    "import csv\n",
    "\n",
    "with open('census.csv', 'r') as file:\n",
    "    reader = csv.DictReader(file)\n",
    "\n",
    "    state_cities = {}\n",
    "    city_max_pop = {}\n",
    "    city_min_pop = {}\n",
    "\n",
    "    total_population = 0\n",
    "\n",
    "    for row in reader:\n",
    "        state, city, pop = row['STNAME'], row['CTYNAME'], int(row['CENSUS2010POP'])\n",
    "\n",
    "        if state == city:\n",
    "            continue\n",
    "\n",
    "        state_cities[state] = state_cities.get(state, 0) + 1\n",
    "        total_population += pop\n",
    "\n",
    "        if state not in city_max_pop or pop > city_max_pop[state][1]:\n",
    "            city_max_pop[state] = (city, pop)\n",
    "\n",
    "        if state not in city_min_pop or pop < city_min_pop[state][1]:\n",
    "            city_min_pop[state] = (city, pop)\n",
    "\n",
    "with open('US2010Census.csv', 'w', newline='') as result_file:\n",
    "    writer = csv.writer(result_file)\n",
    "    writer.writerow(['State', 'Total Cities', 'Total 2010 Population', 'City with Lowest 2010 Population', 'City with Highest 2010 Population'])\n",
    "\n",
    "    for state in state_cities:\n",
    "        writer.writerow([state, state_cities[state], total_population, city_min_pop[state][0], city_max_pop[state][0]])\n",
    "\n",
    "print('Results saved to US2010Census.csv')\n"
   ]
  }
 ],
 "metadata": {
  "kernelspec": {
   "display_name": "Python 3 (ipykernel)",
   "language": "python",
   "name": "python3"
  },
  "language_info": {
   "codemirror_mode": {
    "name": "ipython",
    "version": 3
   },
   "file_extension": ".py",
   "mimetype": "text/x-python",
   "name": "python",
   "nbconvert_exporter": "python",
   "pygments_lexer": "ipython3",
   "version": "3.11.5"
  }
 },
 "nbformat": 4,
 "nbformat_minor": 5
}
